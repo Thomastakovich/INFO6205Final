{
 "cells": [
  {
   "cell_type": "code",
   "execution_count": 3,
   "metadata": {},
   "outputs": [
    {
     "data": {
      "text/html": [
       "<div>\n",
       "<style scoped>\n",
       "    .dataframe tbody tr th:only-of-type {\n",
       "        vertical-align: middle;\n",
       "    }\n",
       "\n",
       "    .dataframe tbody tr th {\n",
       "        vertical-align: top;\n",
       "    }\n",
       "\n",
       "    .dataframe thead th {\n",
       "        text-align: right;\n",
       "    }\n",
       "</style>\n",
       "<table border=\"1\" class=\"dataframe\">\n",
       "  <thead>\n",
       "    <tr style=\"text-align: right;\">\n",
       "      <th></th>\n",
       "      <th>PointGap</th>\n",
       "      <th>HomeWin</th>\n",
       "      <th>Draw</th>\n",
       "      <th>AwayWin</th>\n",
       "      <th>HomeWinRate</th>\n",
       "      <th>DrawRate</th>\n",
       "      <th>AwayWinRate</th>\n",
       "    </tr>\n",
       "  </thead>\n",
       "  <tbody>\n",
       "    <tr>\n",
       "      <td>0</td>\n",
       "      <td>-15</td>\n",
       "      <td>20</td>\n",
       "      <td>15</td>\n",
       "      <td>11</td>\n",
       "      <td>0.434783</td>\n",
       "      <td>0.326087</td>\n",
       "      <td>0.239130</td>\n",
       "    </tr>\n",
       "    <tr>\n",
       "      <td>1</td>\n",
       "      <td>-14</td>\n",
       "      <td>0</td>\n",
       "      <td>2</td>\n",
       "      <td>1</td>\n",
       "      <td>0.000000</td>\n",
       "      <td>0.666667</td>\n",
       "      <td>0.333333</td>\n",
       "    </tr>\n",
       "    <tr>\n",
       "      <td>2</td>\n",
       "      <td>-13</td>\n",
       "      <td>1</td>\n",
       "      <td>2</td>\n",
       "      <td>3</td>\n",
       "      <td>0.166667</td>\n",
       "      <td>0.333333</td>\n",
       "      <td>0.500000</td>\n",
       "    </tr>\n",
       "    <tr>\n",
       "      <td>3</td>\n",
       "      <td>-12</td>\n",
       "      <td>0</td>\n",
       "      <td>1</td>\n",
       "      <td>2</td>\n",
       "      <td>0.000000</td>\n",
       "      <td>0.333333</td>\n",
       "      <td>0.666667</td>\n",
       "    </tr>\n",
       "    <tr>\n",
       "      <td>4</td>\n",
       "      <td>-11</td>\n",
       "      <td>1</td>\n",
       "      <td>1</td>\n",
       "      <td>5</td>\n",
       "      <td>0.142857</td>\n",
       "      <td>0.142857</td>\n",
       "      <td>0.714286</td>\n",
       "    </tr>\n",
       "    <tr>\n",
       "      <td>5</td>\n",
       "      <td>-10</td>\n",
       "      <td>13</td>\n",
       "      <td>12</td>\n",
       "      <td>23</td>\n",
       "      <td>0.270833</td>\n",
       "      <td>0.250000</td>\n",
       "      <td>0.479167</td>\n",
       "    </tr>\n",
       "    <tr>\n",
       "      <td>6</td>\n",
       "      <td>-9</td>\n",
       "      <td>8</td>\n",
       "      <td>5</td>\n",
       "      <td>18</td>\n",
       "      <td>0.258065</td>\n",
       "      <td>0.161290</td>\n",
       "      <td>0.580645</td>\n",
       "    </tr>\n",
       "    <tr>\n",
       "      <td>7</td>\n",
       "      <td>-8</td>\n",
       "      <td>14</td>\n",
       "      <td>22</td>\n",
       "      <td>46</td>\n",
       "      <td>0.170732</td>\n",
       "      <td>0.268293</td>\n",
       "      <td>0.560976</td>\n",
       "    </tr>\n",
       "    <tr>\n",
       "      <td>8</td>\n",
       "      <td>-7</td>\n",
       "      <td>24</td>\n",
       "      <td>26</td>\n",
       "      <td>79</td>\n",
       "      <td>0.186047</td>\n",
       "      <td>0.201550</td>\n",
       "      <td>0.612403</td>\n",
       "    </tr>\n",
       "    <tr>\n",
       "      <td>9</td>\n",
       "      <td>-6</td>\n",
       "      <td>52</td>\n",
       "      <td>52</td>\n",
       "      <td>123</td>\n",
       "      <td>0.229075</td>\n",
       "      <td>0.229075</td>\n",
       "      <td>0.541850</td>\n",
       "    </tr>\n",
       "  </tbody>\n",
       "</table>\n",
       "</div>"
      ],
      "text/plain": [
       "   PointGap   HomeWin   Draw   AwayWin   HomeWinRate   DrawRate   AwayWinRate\n",
       "0       -15        20     15        11      0.434783   0.326087      0.239130\n",
       "1       -14         0      2         1      0.000000   0.666667      0.333333\n",
       "2       -13         1      2         3      0.166667   0.333333      0.500000\n",
       "3       -12         0      1         2      0.000000   0.333333      0.666667\n",
       "4       -11         1      1         5      0.142857   0.142857      0.714286\n",
       "5       -10        13     12        23      0.270833   0.250000      0.479167\n",
       "6        -9         8      5        18      0.258065   0.161290      0.580645\n",
       "7        -8        14     22        46      0.170732   0.268293      0.560976\n",
       "8        -7        24     26        79      0.186047   0.201550      0.612403\n",
       "9        -6        52     52       123      0.229075   0.229075      0.541850"
      ]
     },
     "execution_count": 3,
     "metadata": {},
     "output_type": "execute_result"
    }
   ],
   "source": []
  },
  {
   "cell_type": "code",
   "execution_count": 13,
   "metadata": {},
   "outputs": [
    {
     "data": {
      "text/html": [
       "<div>\n",
       "<style scoped>\n",
       "    .dataframe tbody tr th:only-of-type {\n",
       "        vertical-align: middle;\n",
       "    }\n",
       "\n",
       "    .dataframe tbody tr th {\n",
       "        vertical-align: top;\n",
       "    }\n",
       "\n",
       "    .dataframe thead th {\n",
       "        text-align: right;\n",
       "    }\n",
       "</style>\n",
       "<table border=\"1\" class=\"dataframe\">\n",
       "  <thead>\n",
       "    <tr style=\"text-align: right;\">\n",
       "      <th></th>\n",
       "      <th>PointGap</th>\n",
       "      <th>HomeWin</th>\n",
       "      <th>Draw</th>\n",
       "      <th>AwayWin</th>\n",
       "      <th>HomeWinRate</th>\n",
       "      <th>DrawRate</th>\n",
       "      <th>AwayWinRate</th>\n",
       "    </tr>\n",
       "  </thead>\n",
       "  <tbody>\n",
       "    <tr>\n",
       "      <td>0</td>\n",
       "      <td>-15</td>\n",
       "      <td>20</td>\n",
       "      <td>15</td>\n",
       "      <td>11</td>\n",
       "      <td>0.434783</td>\n",
       "      <td>0.326087</td>\n",
       "      <td>0.239130</td>\n",
       "    </tr>\n",
       "    <tr>\n",
       "      <td>1</td>\n",
       "      <td>-14</td>\n",
       "      <td>0</td>\n",
       "      <td>2</td>\n",
       "      <td>1</td>\n",
       "      <td>0.000000</td>\n",
       "      <td>0.666667</td>\n",
       "      <td>0.333333</td>\n",
       "    </tr>\n",
       "    <tr>\n",
       "      <td>2</td>\n",
       "      <td>-13</td>\n",
       "      <td>1</td>\n",
       "      <td>2</td>\n",
       "      <td>3</td>\n",
       "      <td>0.166667</td>\n",
       "      <td>0.333333</td>\n",
       "      <td>0.500000</td>\n",
       "    </tr>\n",
       "    <tr>\n",
       "      <td>3</td>\n",
       "      <td>-12</td>\n",
       "      <td>0</td>\n",
       "      <td>1</td>\n",
       "      <td>2</td>\n",
       "      <td>0.000000</td>\n",
       "      <td>0.333333</td>\n",
       "      <td>0.666667</td>\n",
       "    </tr>\n",
       "    <tr>\n",
       "      <td>4</td>\n",
       "      <td>-11</td>\n",
       "      <td>1</td>\n",
       "      <td>1</td>\n",
       "      <td>5</td>\n",
       "      <td>0.142857</td>\n",
       "      <td>0.142857</td>\n",
       "      <td>0.714286</td>\n",
       "    </tr>\n",
       "    <tr>\n",
       "      <td>5</td>\n",
       "      <td>-10</td>\n",
       "      <td>13</td>\n",
       "      <td>12</td>\n",
       "      <td>23</td>\n",
       "      <td>0.270833</td>\n",
       "      <td>0.250000</td>\n",
       "      <td>0.479167</td>\n",
       "    </tr>\n",
       "    <tr>\n",
       "      <td>6</td>\n",
       "      <td>-9</td>\n",
       "      <td>8</td>\n",
       "      <td>5</td>\n",
       "      <td>18</td>\n",
       "      <td>0.258065</td>\n",
       "      <td>0.161290</td>\n",
       "      <td>0.580645</td>\n",
       "    </tr>\n",
       "    <tr>\n",
       "      <td>7</td>\n",
       "      <td>-8</td>\n",
       "      <td>14</td>\n",
       "      <td>22</td>\n",
       "      <td>46</td>\n",
       "      <td>0.170732</td>\n",
       "      <td>0.268293</td>\n",
       "      <td>0.560976</td>\n",
       "    </tr>\n",
       "    <tr>\n",
       "      <td>8</td>\n",
       "      <td>-7</td>\n",
       "      <td>24</td>\n",
       "      <td>26</td>\n",
       "      <td>79</td>\n",
       "      <td>0.186047</td>\n",
       "      <td>0.201550</td>\n",
       "      <td>0.612403</td>\n",
       "    </tr>\n",
       "    <tr>\n",
       "      <td>9</td>\n",
       "      <td>-6</td>\n",
       "      <td>52</td>\n",
       "      <td>52</td>\n",
       "      <td>123</td>\n",
       "      <td>0.229075</td>\n",
       "      <td>0.229075</td>\n",
       "      <td>0.541850</td>\n",
       "    </tr>\n",
       "  </tbody>\n",
       "</table>\n",
       "</div>"
      ],
      "text/plain": [
       "   PointGap  HomeWin  Draw  AwayWin  HomeWinRate  DrawRate  AwayWinRate\n",
       "0       -15       20    15       11     0.434783  0.326087     0.239130\n",
       "1       -14        0     2        1     0.000000  0.666667     0.333333\n",
       "2       -13        1     2        3     0.166667  0.333333     0.500000\n",
       "3       -12        0     1        2     0.000000  0.333333     0.666667\n",
       "4       -11        1     1        5     0.142857  0.142857     0.714286\n",
       "5       -10       13    12       23     0.270833  0.250000     0.479167\n",
       "6        -9        8     5       18     0.258065  0.161290     0.580645\n",
       "7        -8       14    22       46     0.170732  0.268293     0.560976\n",
       "8        -7       24    26       79     0.186047  0.201550     0.612403\n",
       "9        -6       52    52      123     0.229075  0.229075     0.541850"
      ]
     },
     "execution_count": 13,
     "metadata": {},
     "output_type": "execute_result"
    }
   ],
   "source": [
    "import pandas as pd\n",
    "relationship = pd.read_csv('relationship.csv')\n",
    "relationship.head(10)"
   ]
  },
  {
   "cell_type": "code",
   "execution_count": 15,
   "metadata": {},
   "outputs": [
    {
     "data": {
      "text/plain": [
       "<matplotlib.axes._subplots.AxesSubplot at 0x114f3ee90>"
      ]
     },
     "execution_count": 15,
     "metadata": {},
     "output_type": "execute_result"
    },
    {
     "data": {
      "image/png": "[encoded data removed]",
      "text/plain": [
       "<Figure size 432x288 with 1 Axes>"
      ]
     },
     "metadata": {
      "needs_background": "light"
     },
     "output_type": "display_data"
    }
   ],
   "source": [
    "import matplotlib.pyplot as plt\n",
    "%matplotlib inline\n",
    "HWR = relationship['HomeWinRate']\n",
    "HWR.plot()"
   ]
  },
  {
   "cell_type": "code",
   "execution_count": 16,
   "metadata": {},
   "outputs": [
    {
     "data": {
      "text/plain": [
       "<matplotlib.axes._subplots.AxesSubplot at 0x114e70450>"
      ]
     },
     "execution_count": 16,
     "metadata": {},
     "output_type": "execute_result"
    },
    {
     "data": {
      "image/png": "[encoded data removed]",
      "text/plain": [
       "<Figure size 432x288 with 1 Axes>"
      ]
     },
     "metadata": {
      "needs_background": "light"
     },
     "output_type": "display_data"
    }
   ],
   "source": [
    "DR = relationship['DrawRate']\n",
    "DR.plot()"
   ]
  },
  {
   "cell_type": "code",
   "execution_count": 17,
   "metadata": {},
   "outputs": [
    {
     "data": {
      "text/plain": [
       "<matplotlib.axes._subplots.AxesSubplot at 0x114f3e250>"
      ]
     },
     "execution_count": 17,
     "metadata": {},
     "output_type": "execute_result"
    },
    {
     "data": {
      "image/png": "[encoded data removed]",
      "text/plain": [
       "<Figure size 432x288 with 1 Axes>"
      ]
     },
     "metadata": {
      "needs_background": "light"
     },
     "output_type": "display_data"
    }
   ],
   "source": [
    "AWR = relationship['AwayWinRate']\n",
    "AWR.plot()"
   ]
  }
 ],
 "metadata": {
  "kernelspec": {
   "display_name": "Python 3",
   "language": "python",
   "name": "python3"
  },
  "language_info": {
   "codemirror_mode": {
    "name": "ipython",
    "version": 3
   },
   "file_extension": ".py",
   "mimetype": "text/x-python",
   "name": "python",
   "nbconvert_exporter": "python",
   "pygments_lexer": "ipython3",
   "version": "3.7.4"
  }
 },
 "nbformat": 4,
 "nbformat_minor": 2
}
